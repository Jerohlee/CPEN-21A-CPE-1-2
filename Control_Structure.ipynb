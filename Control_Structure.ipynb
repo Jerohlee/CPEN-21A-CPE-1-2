{
  "nbformat": 4,
  "nbformat_minor": 0,
  "metadata": {
    "colab": {
      "name": "Control Structure",
      "provenance": [],
      "authorship_tag": "ABX9TyN/V09NVQzS4xC4Aaq6Oie9",
      "include_colab_link": true
    },
    "kernelspec": {
      "name": "python3",
      "display_name": "Python 3"
    },
    "language_info": {
      "name": "python"
    }
  },
  "cells": [
    {
      "cell_type": "markdown",
      "metadata": {
        "id": "view-in-github",
        "colab_type": "text"
      },
      "source": [
        "<a href=\"https://colab.research.google.com/github/Jerohlee/CPEN-21A-CPE-1-2/blob/main/Control_Structure.ipynb\" target=\"_parent\"><img src=\"https://colab.research.google.com/assets/colab-badge.svg\" alt=\"Open In Colab\"/></a>"
      ]
    },
    {
      "cell_type": "code",
      "metadata": {
        "colab": {
          "base_uri": "https://localhost:8080/"
        },
        "id": "9c7GeQDfP6-O",
        "outputId": "c1f1e843-e641-4716-b42e-67c4028ab0dc"
      },
      "source": [
        "##If Statement\n",
        "\n",
        "x = 10\n",
        "y = 5\n",
        "\n",
        "if x >= y:\n",
        "  print (\"x is greater than y\")"
      ],
      "execution_count": 42,
      "outputs": [
        {
          "output_type": "stream",
          "name": "stdout",
          "text": [
            "x is greater than y\n"
          ]
        }
      ]
    },
    {
      "cell_type": "code",
      "metadata": {
        "colab": {
          "base_uri": "https://localhost:8080/"
        },
        "id": "A2MPrKCcQ2KM",
        "outputId": "af2aa0ec-d55a-4d39-8042-3e261a1942af"
      },
      "source": [
        "##Elif Statement\n",
        "\n",
        "x = 20\n",
        "y = 14\n",
        "\n",
        "if x == y:\n",
        "  print (\"x is equals to y\")\n",
        "elif x >= y:\n",
        "  print (\"x is greater than y\")"
      ],
      "execution_count": 41,
      "outputs": [
        {
          "output_type": "stream",
          "name": "stdout",
          "text": [
            "x is greater than y\n"
          ]
        }
      ]
    },
    {
      "cell_type": "code",
      "metadata": {
        "colab": {
          "base_uri": "https://localhost:8080/"
        },
        "id": "UFnzUuj8RUDV",
        "outputId": "758c6f14-1fe8-4d1c-8088-0e29ad6ac921"
      },
      "source": [
        "##Else Statement\n",
        "\n",
        "x = 10\n",
        "y = 15\n",
        "\n",
        "if x >= y:\n",
        "  print(\"x greater than y\")\n",
        "elif x <= y:\n",
        "  print(\"x is less than y\")\n",
        "else:\n",
        "  print (\"x is equals to y\")\n"
      ],
      "execution_count": 40,
      "outputs": [
        {
          "output_type": "stream",
          "name": "stdout",
          "text": [
            "x is less than y\n"
          ]
        }
      ]
    },
    {
      "cell_type": "code",
      "metadata": {
        "colab": {
          "base_uri": "https://localhost:8080/"
        },
        "id": "mPez68_QRuNV",
        "outputId": "b491c1fe-20bd-4ac1-b2c3-a754250b949d"
      },
      "source": [
        "##Short Hand If Statement\n",
        "\n",
        "x = 30\n",
        "y = 15\n",
        "\n",
        "if x >= y: print(\"a is greater than b\")"
      ],
      "execution_count": 39,
      "outputs": [
        {
          "output_type": "stream",
          "name": "stdout",
          "text": [
            "a is greater than b\n"
          ]
        }
      ]
    },
    {
      "cell_type": "code",
      "metadata": {
        "colab": {
          "base_uri": "https://localhost:8080/"
        },
        "id": "BxUR96f7R4pk",
        "outputId": "c2b3f6fe-b14b-43e0-c974-99ee5acb02d2"
      },
      "source": [
        "##Short Hand Elif Statement\n",
        "\n",
        "x = 25\n",
        "y = 40\n",
        "\n",
        "print(\"x is greater than y\") if x>=y else print(\"x is greater than y\")\n"
      ],
      "execution_count": 38,
      "outputs": [
        {
          "output_type": "stream",
          "name": "stdout",
          "text": [
            "x is greater than y\n"
          ]
        }
      ]
    },
    {
      "cell_type": "code",
      "metadata": {
        "colab": {
          "base_uri": "https://localhost:8080/"
        },
        "id": "T5RxTGpNSO3c",
        "outputId": "48913e62-f9ac-43cc-c33f-60e8b1615f7b"
      },
      "source": [
        "##And Logic Conditions\n",
        "\n",
        "x = 10\n",
        "if x >= 4 and x >= 6:\n",
        "  print(\"Both conditions are True\")"
      ],
      "execution_count": 37,
      "outputs": [
        {
          "output_type": "stream",
          "name": "stdout",
          "text": [
            "Both conditions are True\n"
          ]
        }
      ]
    },
    {
      "cell_type": "code",
      "metadata": {
        "colab": {
          "base_uri": "https://localhost:8080/"
        },
        "id": "2zd8uD3HSdnN",
        "outputId": "1a502390-10ca-4d6f-9d70-5aedf3e892eb"
      },
      "source": [
        "##Or Logic Conditions\n",
        "\n",
        "x = 30\n",
        "if x >= 15 or x <= 10:\n",
        "  print(\"True\")\n",
        "else:\n",
        "  print(\"False\")\n",
        "\n"
      ],
      "execution_count": 36,
      "outputs": [
        {
          "output_type": "stream",
          "name": "stdout",
          "text": [
            "True\n"
          ]
        }
      ]
    },
    {
      "cell_type": "code",
      "metadata": {
        "colab": {
          "base_uri": "https://localhost:8080/"
        },
        "id": "3rAjGywmS1V8",
        "outputId": "bc4dae9d-f15d-46d1-f1cb-1f6497c52131"
      },
      "source": [
        "if x >= 25:\n",
        "  print(\"Above 25\")\n",
        "  if x >= 30:\n",
        "    print(\"Above 30\")\n",
        "  else:\n",
        "    print(\"below 30\")\n",
        "else:\n",
        "  print(\"less than 20\")"
      ],
      "execution_count": 35,
      "outputs": [
        {
          "output_type": "stream",
          "name": "stdout",
          "text": [
            "Above 25\n",
            "Above 30\n"
          ]
        }
      ]
    },
    {
      "cell_type": "code",
      "metadata": {
        "colab": {
          "base_uri": "https://localhost:8080/"
        },
        "id": "nJKSxlLnS37E",
        "outputId": "13e890bd-fec4-4cd2-c349-26edbd610447"
      },
      "source": [
        "##Example 1\n",
        "\n",
        "age = int(input(\"Enter your Age:\"))\n",
        "\n",
        "if age >= 18:\n",
        "  print(\"You are Qualified to Vote\")\n",
        "else:\n",
        "  Print(\"you are not qualified to vote\")"
      ],
      "execution_count": 34,
      "outputs": [
        {
          "output_type": "stream",
          "name": "stdout",
          "text": [
            "Enter your Age:18\n",
            "You are Qualified to Vote\n"
          ]
        }
      ]
    },
    {
      "cell_type": "code",
      "metadata": {
        "colab": {
          "base_uri": "https://localhost:8080/"
        },
        "id": "y1Kw3rsOS-UU",
        "outputId": "22b58735-ca9d-4ec0-d874-d76c5e714992"
      },
      "source": [
        "##Example 2\n",
        "\n",
        "number = float(input(\"Enter the number:\"))\n",
        "if number ==0:\n",
        "  print(\"Zero\")\n",
        "elif number>0:\n",
        "  print(\"Positive\")\n",
        "else:\n",
        "  print(\"Negative\")"
      ],
      "execution_count": 33,
      "outputs": [
        {
          "output_type": "stream",
          "name": "stdout",
          "text": [
            "Enter the number:200\n",
            "Positive\n"
          ]
        }
      ]
    },
    {
      "cell_type": "code",
      "metadata": {
        "colab": {
          "base_uri": "https://localhost:8080/"
        },
        "id": "3gx-H63zPFR8",
        "outputId": "cbb9cea7-33c3-40fe-a9aa-3525cb7987fb"
      },
      "source": [
        "##Activity 3\n",
        "\n",
        "grade = float(input(\"Enter Grade:\"))\n",
        "\n",
        "if grade >= 75:\n",
        "  print(\"Passed\")\n",
        "elif grade == 74:\n",
        "  print(\"Remedial\")\n",
        "else:\n",
        "  print(\"Failed\")"
      ],
      "execution_count": 32,
      "outputs": [
        {
          "output_type": "stream",
          "name": "stdout",
          "text": [
            "Enter Grade:74.99\n",
            "Failed\n"
          ]
        }
      ]
    }
  ]
}