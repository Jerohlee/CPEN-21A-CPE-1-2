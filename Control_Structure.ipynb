{
  "nbformat": 4,
  "nbformat_minor": 0,
  "metadata": {
    "colab": {
      "name": "Control Structure",
      "provenance": [],
      "collapsed_sections": [],
      "authorship_tag": "ABX9TyObZRMUajcS8cd+AR5n4RTm",
      "include_colab_link": true
    },
    "kernelspec": {
      "name": "python3",
      "display_name": "Python 3"
    },
    "language_info": {
      "name": "python"
    }
  },
  "cells": [
    {
      "cell_type": "markdown",
      "metadata": {
        "id": "view-in-github",
        "colab_type": "text"
      },
      "source": [
        "<a href=\"https://colab.research.google.com/github/Jerohlee/CPEN-21A-CPE-1-2/blob/main/Control_Structure.ipynb\" target=\"_parent\"><img src=\"https://colab.research.google.com/assets/colab-badge.svg\" alt=\"Open In Colab\"/></a>"
      ]
    },
    {
      "cell_type": "markdown",
      "metadata": {
        "id": "M8RyqkL5UDYM"
      },
      "source": [
        "##If Statement"
      ]
    },
    {
      "cell_type": "code",
      "metadata": {
        "colab": {
          "base_uri": "https://localhost:8080/"
        },
        "id": "9c7GeQDfP6-O",
        "outputId": "94654e19-719d-4d7c-cd8e-534c79aaded6"
      },
      "source": [
        "x = 10\n",
        "y = 5\n",
        "\n",
        "if x >= y:\n",
        "  print (\"x is greater than y\")"
      ],
      "execution_count": 43,
      "outputs": [
        {
          "output_type": "stream",
          "name": "stdout",
          "text": [
            "x is greater than y\n"
          ]
        }
      ]
    },
    {
      "cell_type": "markdown",
      "metadata": {
        "id": "O05awKqbUJ6z"
      },
      "source": [
        "## Elif Statement"
      ]
    },
    {
      "cell_type": "code",
      "metadata": {
        "colab": {
          "base_uri": "https://localhost:8080/"
        },
        "id": "A2MPrKCcQ2KM",
        "outputId": "42682075-86a4-447b-f414-63056dec475e"
      },
      "source": [
        "x = 20\n",
        "y = 14\n",
        "\n",
        "if x == y:\n",
        "  print (\"x is equals to y\")\n",
        "elif x >= y:\n",
        "  print (\"x is greater than y\")"
      ],
      "execution_count": 45,
      "outputs": [
        {
          "output_type": "stream",
          "name": "stdout",
          "text": [
            "x is greater than y\n"
          ]
        }
      ]
    },
    {
      "cell_type": "markdown",
      "metadata": {
        "id": "sMbjQwvrUOly"
      },
      "source": [
        "## Else Statement"
      ]
    },
    {
      "cell_type": "code",
      "metadata": {
        "colab": {
          "base_uri": "https://localhost:8080/"
        },
        "id": "UFnzUuj8RUDV",
        "outputId": "28ec017f-2cfc-4b32-deb1-70dd0e268820"
      },
      "source": [
        "x = 10\n",
        "y = 15\n",
        "\n",
        "if x >= y:\n",
        "  print(\"x greater than y\")\n",
        "elif x <= y:\n",
        "  print(\"x is less than y\")\n",
        "else:\n",
        "  print (\"x is equals to y\")\n"
      ],
      "execution_count": 46,
      "outputs": [
        {
          "output_type": "stream",
          "name": "stdout",
          "text": [
            "x is less than y\n"
          ]
        }
      ]
    },
    {
      "cell_type": "markdown",
      "metadata": {
        "id": "grs9t5lOURTU"
      },
      "source": [
        "## Short Hand If Statement"
      ]
    },
    {
      "cell_type": "code",
      "metadata": {
        "colab": {
          "base_uri": "https://localhost:8080/"
        },
        "id": "mPez68_QRuNV",
        "outputId": "ea605191-5bc5-4610-f52a-6f6947645894"
      },
      "source": [
        "x = 30\n",
        "y = 15\n",
        "\n",
        "if x >= y: print(\"a is greater than b\")"
      ],
      "execution_count": 47,
      "outputs": [
        {
          "output_type": "stream",
          "name": "stdout",
          "text": [
            "a is greater than b\n"
          ]
        }
      ]
    },
    {
      "cell_type": "markdown",
      "metadata": {
        "id": "Y4OR41dWUVMb"
      },
      "source": [
        "## Short Hand Elif Statement"
      ]
    },
    {
      "cell_type": "code",
      "metadata": {
        "colab": {
          "base_uri": "https://localhost:8080/"
        },
        "id": "BxUR96f7R4pk",
        "outputId": "a14b9bda-2e0d-4347-ae29-0957c931c705"
      },
      "source": [
        "x = 25\n",
        "y = 40\n",
        "\n",
        "print(\"x is greater than y\") if x>=y else print(\"x is greater than y\")\n"
      ],
      "execution_count": 48,
      "outputs": [
        {
          "output_type": "stream",
          "name": "stdout",
          "text": [
            "x is greater than y\n"
          ]
        }
      ]
    },
    {
      "cell_type": "markdown",
      "metadata": {
        "id": "b-g_jrzYUX8l"
      },
      "source": [
        "## And Logic Conditions"
      ]
    },
    {
      "cell_type": "code",
      "metadata": {
        "colab": {
          "base_uri": "https://localhost:8080/"
        },
        "id": "T5RxTGpNSO3c",
        "outputId": "fed80195-0664-414f-ff4c-3c0c585e954e"
      },
      "source": [
        "x = 10\n",
        "if x >= 4 and x >= 6:\n",
        "  print(\"Both conditions are True\")"
      ],
      "execution_count": 49,
      "outputs": [
        {
          "output_type": "stream",
          "name": "stdout",
          "text": [
            "Both conditions are True\n"
          ]
        }
      ]
    },
    {
      "cell_type": "markdown",
      "metadata": {
        "id": "qggrKn2zUaEQ"
      },
      "source": [
        "## Or Logic Conditions"
      ]
    },
    {
      "cell_type": "code",
      "metadata": {
        "colab": {
          "base_uri": "https://localhost:8080/"
        },
        "id": "2zd8uD3HSdnN",
        "outputId": "044084ff-0a79-48bb-a40b-99c9b7b0a7b0"
      },
      "source": [
        "x = 30\n",
        "if x >= 15 or x <= 10:\n",
        "  print(\"True\")\n",
        "else:\n",
        "  print(\"False\")\n",
        "\n"
      ],
      "execution_count": 50,
      "outputs": [
        {
          "output_type": "stream",
          "name": "stdout",
          "text": [
            "True\n"
          ]
        }
      ]
    },
    {
      "cell_type": "code",
      "metadata": {
        "colab": {
          "base_uri": "https://localhost:8080/"
        },
        "id": "3rAjGywmS1V8",
        "outputId": "bc4dae9d-f15d-46d1-f1cb-1f6497c52131"
      },
      "source": [
        "if x >= 25:\n",
        "  print(\"Above 25\")\n",
        "  if x >= 30:\n",
        "    print(\"Above 30\")\n",
        "  else:\n",
        "    print(\"below 30\")\n",
        "else:\n",
        "  print(\"less than 20\")"
      ],
      "execution_count": 35,
      "outputs": [
        {
          "output_type": "stream",
          "name": "stdout",
          "text": [
            "Above 25\n",
            "Above 30\n"
          ]
        }
      ]
    },
    {
      "cell_type": "markdown",
      "metadata": {
        "id": "N5Aff8i9UcQT"
      },
      "source": [
        "## Example 1"
      ]
    },
    {
      "cell_type": "code",
      "metadata": {
        "colab": {
          "base_uri": "https://localhost:8080/"
        },
        "id": "nJKSxlLnS37E",
        "outputId": "3c8b1aa2-c1c6-4ad9-bc9d-dddea7aa731f"
      },
      "source": [
        "age = int(input(\"Enter your Age:\"))\n",
        "\n",
        "if age >= 18:\n",
        "  print(\"You are Qualified to Vote\")\n",
        "else:\n",
        "  Print(\"you are not qualified to vote\")"
      ],
      "execution_count": 51,
      "outputs": [
        {
          "output_type": "stream",
          "name": "stdout",
          "text": [
            "Enter your Age:18\n",
            "You are Qualified to Vote\n"
          ]
        }
      ]
    },
    {
      "cell_type": "markdown",
      "metadata": {
        "id": "1Gro8tybUeBL"
      },
      "source": [
        "## Example 2"
      ]
    },
    {
      "cell_type": "code",
      "metadata": {
        "colab": {
          "base_uri": "https://localhost:8080/"
        },
        "id": "y1Kw3rsOS-UU",
        "outputId": "12b4d6f5-3155-4207-fe14-c15c531c38e8"
      },
      "source": [
        "number = float(input(\"Enter the number:\"))\n",
        "if number ==0:\n",
        "  print(\"Zero\")\n",
        "elif number>0:\n",
        "  print(\"Positive\")\n",
        "else:\n",
        "  print(\"Negative\")"
      ],
      "execution_count": 52,
      "outputs": [
        {
          "output_type": "stream",
          "name": "stdout",
          "text": [
            "Enter the number:-79\n",
            "Negative\n"
          ]
        }
      ]
    },
    {
      "cell_type": "markdown",
      "metadata": {
        "id": "kAAUFcCiUh16"
      },
      "source": [
        "## Activity 3"
      ]
    },
    {
      "cell_type": "code",
      "metadata": {
        "colab": {
          "base_uri": "https://localhost:8080/"
        },
        "id": "3gx-H63zPFR8",
        "outputId": "87ff9856-20bb-4477-88f3-3949a8f0b5be"
      },
      "source": [
        "grade = float(input(\"Enter Grade:\"))\n",
        "\n",
        "if grade >= 75:\n",
        "  print(\"Passed\")\n",
        "elif grade < 75 and grade >= 74:\n",
        "  print(\"Remedial\")\n",
        "else:\n",
        "  print(\"Failed\")"
      ],
      "execution_count": 55,
      "outputs": [
        {
          "output_type": "stream",
          "name": "stdout",
          "text": [
            "Enter Grade:74.1\n",
            "Remedial\n"
          ]
        }
      ]
    }
  ]
}