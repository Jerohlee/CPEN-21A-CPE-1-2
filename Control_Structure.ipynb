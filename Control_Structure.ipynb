{
  "nbformat": 4,
  "nbformat_minor": 0,
  "metadata": {
    "colab": {
      "name": "Control Structure",
      "provenance": [],
      "authorship_tag": "ABX9TyOmc3Y1tOS3IzjDBCuEsjPB",
      "include_colab_link": true
    },
    "kernelspec": {
      "name": "python3",
      "display_name": "Python 3"
    },
    "language_info": {
      "name": "python"
    }
  },
  "cells": [
    {
      "cell_type": "markdown",
      "metadata": {
        "id": "view-in-github",
        "colab_type": "text"
      },
      "source": [
        "<a href=\"https://colab.research.google.com/github/Jerohlee/CPEN-21A-CPE-1-2/blob/main/Control_Structure.ipynb\" target=\"_parent\"><img src=\"https://colab.research.google.com/assets/colab-badge.svg\" alt=\"Open In Colab\"/></a>"
      ]
    },
    {
      "cell_type": "code",
      "metadata": {
        "colab": {
          "base_uri": "https://localhost:8080/"
        },
        "id": "9c7GeQDfP6-O",
        "outputId": "3652d87f-beb8-463c-ea57-8112a4dd499c"
      },
      "source": [
        "#If Statement\n",
        "\n",
        "x = 10\n",
        "y = 5\n",
        "\n",
        "if x >= y:\n",
        "  print (\"x is greater than y\")"
      ],
      "execution_count": 29,
      "outputs": [
        {
          "output_type": "stream",
          "name": "stdout",
          "text": [
            "x is greater than y\n"
          ]
        }
      ]
    },
    {
      "cell_type": "code",
      "metadata": {
        "colab": {
          "base_uri": "https://localhost:8080/"
        },
        "id": "A2MPrKCcQ2KM",
        "outputId": "f3276fd0-4115-4568-93fe-e294f30968c6"
      },
      "source": [
        "#Elif Statement\n",
        "\n",
        "x = 20\n",
        "y = 14\n",
        "\n",
        "if x == y:\n",
        "  print (\"x is equals to y\")\n",
        "elif x >= y:\n",
        "  print (\"x is greater than y\")"
      ],
      "execution_count": 30,
      "outputs": [
        {
          "output_type": "stream",
          "name": "stdout",
          "text": [
            "x is greater than y\n"
          ]
        }
      ]
    },
    {
      "cell_type": "code",
      "metadata": {
        "colab": {
          "base_uri": "https://localhost:8080/"
        },
        "id": "UFnzUuj8RUDV",
        "outputId": "6b1787e2-876c-4cea-def2-aff32df91053"
      },
      "source": [
        "#Else Statement\n",
        "\n",
        "x = 10\n",
        "y = 15\n",
        "\n",
        "if x >= y:\n",
        "  print(\"x greater than y\")\n",
        "elif x <= y:\n",
        "  print(\"x is less than y\")\n",
        "else:\n",
        "  print (\"x is equals to y\")\n"
      ],
      "execution_count": 12,
      "outputs": [
        {
          "output_type": "stream",
          "name": "stdout",
          "text": [
            "x is less than y\n"
          ]
        }
      ]
    },
    {
      "cell_type": "code",
      "metadata": {
        "colab": {
          "base_uri": "https://localhost:8080/"
        },
        "id": "mPez68_QRuNV",
        "outputId": "730cbb6d-580e-4ded-f971-01f6b13a9d5f"
      },
      "source": [
        "#Short Hand If Statement\n",
        "\n",
        "x = 30\n",
        "y = 15\n",
        "\n",
        "if x >= y: print(\"a is greater than b\")"
      ],
      "execution_count": 31,
      "outputs": [
        {
          "output_type": "stream",
          "name": "stdout",
          "text": [
            "a is greater than b\n"
          ]
        }
      ]
    },
    {
      "cell_type": "code",
      "metadata": {
        "colab": {
          "base_uri": "https://localhost:8080/"
        },
        "id": "BxUR96f7R4pk",
        "outputId": "8e7b491f-20d0-4342-8b70-45581896eb1b"
      },
      "source": [
        "#Short Hand Elif Statement\n",
        "\n",
        "x = 25\n",
        "y = 40\n",
        "\n",
        "print(\"x is greater than y\") if x>=y else print(\"x is greater than y\")\n"
      ],
      "execution_count": 14,
      "outputs": [
        {
          "output_type": "stream",
          "name": "stdout",
          "text": [
            "x is greater than y\n"
          ]
        }
      ]
    },
    {
      "cell_type": "code",
      "metadata": {
        "colab": {
          "base_uri": "https://localhost:8080/"
        },
        "id": "T5RxTGpNSO3c",
        "outputId": "58c9fb7b-40a3-4d0c-d173-49ad7ef1b258"
      },
      "source": [
        "#And Logic Conditions\n",
        "\n",
        "x = 10\n",
        "if x >= 4 and x >= 6:\n",
        "  print(\"Both conditions are True\")"
      ],
      "execution_count": 18,
      "outputs": [
        {
          "output_type": "stream",
          "name": "stdout",
          "text": [
            "Both conditions are True\n"
          ]
        }
      ]
    },
    {
      "cell_type": "code",
      "metadata": {
        "colab": {
          "base_uri": "https://localhost:8080/"
        },
        "id": "2zd8uD3HSdnN",
        "outputId": "ed9f8326-8d2b-4b9e-c45a-6cb91afc3514"
      },
      "source": [
        "#Or Logic Conditions\n",
        "x = 30\n",
        "if x >= 15 or x <= 10:\n",
        "  print(\"True\")\n",
        "else:\n",
        "  print(\"False\")\n",
        "\n"
      ],
      "execution_count": 22,
      "outputs": [
        {
          "output_type": "stream",
          "name": "stdout",
          "text": [
            "True\n"
          ]
        }
      ]
    },
    {
      "cell_type": "code",
      "metadata": {
        "colab": {
          "base_uri": "https://localhost:8080/"
        },
        "id": "3rAjGywmS1V8",
        "outputId": "179f54dc-904e-4144-c83a-5f24c9dad412"
      },
      "source": [
        "if x >= 25:\n",
        "  print(\"Above 25\")\n",
        "  if x >= 30:\n",
        "    print(\"Above 30\")\n",
        "  else:\n",
        "    print(\"below 30\")\n",
        "else:\n",
        "  print(\"less than 20\")"
      ],
      "execution_count": 24,
      "outputs": [
        {
          "output_type": "stream",
          "name": "stdout",
          "text": [
            "Above 25\n",
            "Above 30\n"
          ]
        }
      ]
    },
    {
      "cell_type": "code",
      "metadata": {
        "colab": {
          "base_uri": "https://localhost:8080/"
        },
        "id": "nJKSxlLnS37E",
        "outputId": "259653e5-2f3b-4af4-9010-37f7bfc77096"
      },
      "source": [
        "#Example 1\n",
        "\n",
        "age = int(input(\"Enter your Age:\"))\n",
        "\n",
        "if age >= 18:\n",
        "  print(\"You are Qualified to Vote\")\n",
        "else:\n",
        "  Print(\"you are not qualified to vote\")"
      ],
      "execution_count": 25,
      "outputs": [
        {
          "output_type": "stream",
          "name": "stdout",
          "text": [
            "Enter your Age:18\n",
            "You are Qualified to Vote\n"
          ]
        }
      ]
    },
    {
      "cell_type": "code",
      "metadata": {
        "colab": {
          "base_uri": "https://localhost:8080/"
        },
        "id": "y1Kw3rsOS-UU",
        "outputId": "133be7ba-f36e-4693-88f3-99bbfc24f9f7"
      },
      "source": [
        "#Example 2\n",
        "\n",
        "number = float(input(\"Enter the number:\"))\n",
        "if number ==0:\n",
        "  print(\"Zero\")\n",
        "elif number>0:\n",
        "  print(\"Positive\")\n",
        "else:\n",
        "  print(\"Negative\")"
      ],
      "execution_count": 26,
      "outputs": [
        {
          "output_type": "stream",
          "name": "stdout",
          "text": [
            "Enter the number:200\n",
            "Positive\n"
          ]
        }
      ]
    },
    {
      "cell_type": "code",
      "metadata": {
        "colab": {
          "base_uri": "https://localhost:8080/"
        },
        "id": "3gx-H63zPFR8",
        "outputId": "f3a2cb94-653c-4439-e1af-82322930e091"
      },
      "source": [
        "#Activity 3\n",
        "\n",
        "grade = float(input(\"Enter Grade:\"))\n",
        "\n",
        "if grade >= 75:\n",
        "  print(\"Passed\")\n",
        "elif grade == 74:\n",
        "  print(\"Remedial\")\n",
        "else:\n",
        "  print(\"Failed\")"
      ],
      "execution_count": 16,
      "outputs": [
        {
          "output_type": "stream",
          "name": "stdout",
          "text": [
            "Enter Grade:25\n",
            "Failed\n"
          ]
        }
      ]
    }
  ]
}