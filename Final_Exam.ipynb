{
  "nbformat": 4,
  "nbformat_minor": 0,
  "metadata": {
    "colab": {
      "name": "Final Exam.ipynb",
      "provenance": [],
      "authorship_tag": "ABX9TyPlsyDJK7+K7TNFs4LDwFhM",
      "include_colab_link": true
    },
    "kernelspec": {
      "name": "python3",
      "display_name": "Python 3"
    },
    "language_info": {
      "name": "python"
    }
  },
  "cells": [
    {
      "cell_type": "markdown",
      "metadata": {
        "id": "view-in-github",
        "colab_type": "text"
      },
      "source": [
        "<a href=\"https://colab.research.google.com/github/Jerohlee/CPEN-21A-CPE-1-2/blob/main/Final_Exam.ipynb\" target=\"_parent\"><img src=\"https://colab.research.google.com/assets/colab-badge.svg\" alt=\"Open In Colab\"/></a>"
      ]
    },
    {
      "cell_type": "markdown",
      "source": [
        "# **Final** **Exam**"
      ],
      "metadata": {
        "id": "zcVeIj7kX1Q-"
      }
    },
    {
      "cell_type": "markdown",
      "source": [
        "#Problem Statement 1"
      ],
      "metadata": {
        "id": "VtYBBsY2Vlo-"
      }
    },
    {
      "cell_type": "code",
      "execution_count": 3,
      "metadata": {
        "colab": {
          "base_uri": "https://localhost:8080/"
        },
        "id": "eYEci-5BViBw",
        "outputId": "be31bcfe-3c62-4817-c2b9-ceb601fd8987"
      },
      "outputs": [
        {
          "output_type": "stream",
          "name": "stdout",
          "text": [
            "Enter Number: \n",
            "Number 1 = 2\n",
            "Number 2 = 3\n",
            "Number 3 = 4\n",
            "Number 4 = 5\n",
            "Number 5 = 7\n",
            "Number 6 = 9\n",
            "Number 7 = 2\n",
            "Number 8 = 1\n",
            "Number 9 = 3\n",
            "Number 10 = 2\n",
            "38\n"
          ]
        }
      ],
      "source": [
        "a = 0\n",
        "\n",
        "print(\"Enter Number: \")\n",
        "for b in range (1,11):\n",
        "  c = int(input(\"Number %d = \" %b))\n",
        "  a = a + c\n",
        "print(a)\n"
      ]
    },
    {
      "cell_type": "markdown",
      "source": [
        "#Problem Statement 2"
      ],
      "metadata": {
        "id": "aS2ZX9UCWT6J"
      }
    },
    {
      "cell_type": "code",
      "source": [
        "a = []\n",
        "while len(a) is not 5:\n",
        "  x = int(input(\"Input Number: \"))\n",
        "  a.append(x)\n",
        "print(a)\n",
        "b = a[0] + a[-1]\n",
        "print(b)"
      ],
      "metadata": {
        "colab": {
          "base_uri": "https://localhost:8080/"
        },
        "id": "mUsnuWT0WVh8",
        "outputId": "f7537c8e-4ae2-4f39-bcf3-dd4ed21adc71"
      },
      "execution_count": 4,
      "outputs": [
        {
          "output_type": "stream",
          "name": "stdout",
          "text": [
            "Input Number: 2\n",
            "Input Number: 1\n",
            "Input Number: 3\n",
            "Input Number: 4\n",
            "Input Number: 2\n",
            "[2, 1, 3, 4, 2]\n",
            "4\n"
          ]
        }
      ]
    },
    {
      "cell_type": "markdown",
      "source": [
        "#Problem Statement 3"
      ],
      "metadata": {
        "id": "dGqXhR1TW_NX"
      }
    },
    {
      "cell_type": "code",
      "source": [
        "a = int(input(\"Please input Average Grade: \"))\n",
        "\n",
        "if a >= 90:\n",
        "  print(\"Your Grade is A\")\n",
        "elif a >= 80 and a <= 89:\n",
        "  print(\"Your Grade is B\")\n",
        "elif a >= 70 and a <= 79:\n",
        "  print(\"Your Grade is C\")\n",
        "elif a >= 60 and a <= 69:\n",
        "  print(\"Your Grade is D\")\n",
        "else:\n",
        "  print(\"Your Grade is F\")"
      ],
      "metadata": {
        "colab": {
          "base_uri": "https://localhost:8080/"
        },
        "id": "iWXS4E3fXC3A",
        "outputId": "cb94b84e-6c35-4d62-e04f-99ff28adc056"
      },
      "execution_count": 7,
      "outputs": [
        {
          "output_type": "stream",
          "name": "stdout",
          "text": [
            "Please input Average Grade: 22\n",
            "Your Grade is F\n"
          ]
        }
      ]
    }
  ]
}