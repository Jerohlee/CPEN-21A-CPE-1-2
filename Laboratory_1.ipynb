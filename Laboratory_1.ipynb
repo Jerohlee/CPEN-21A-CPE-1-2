{
  "nbformat": 4,
  "nbformat_minor": 0,
  "metadata": {
    "colab": {
      "name": "Laboratory 1",
      "provenance": [],
      "collapsed_sections": [],
      "authorship_tag": "ABX9TyPtSJk3YrSTLJUgS2x3WnPr",
      "include_colab_link": true
    },
    "kernelspec": {
      "name": "python3",
      "display_name": "Python 3"
    },
    "language_info": {
      "name": "python"
    }
  },
  "cells": [
    {
      "cell_type": "markdown",
      "metadata": {
        "id": "view-in-github",
        "colab_type": "text"
      },
      "source": [
        "<a href=\"https://colab.research.google.com/github/Jerohlee/CPEN-21A-CPE-1-2/blob/main/Laboratory_1.ipynb\" target=\"_parent\"><img src=\"https://colab.research.google.com/assets/colab-badge.svg\" alt=\"Open In Colab\"/></a>"
      ]
    },
    {
      "cell_type": "code",
      "metadata": {
        "colab": {
          "base_uri": "https://localhost:8080/"
        },
        "id": "6rX1rlT2SHYI",
        "outputId": "310081e3-6689-4df6-a405-0ebb215ff87c"
      },
      "source": [
        "print(\"Welcome to Programming\")"
      ],
      "execution_count": null,
      "outputs": [
        {
          "output_type": "stream",
          "name": "stdout",
          "text": [
            "Welcome to Programming\n"
          ]
        }
      ]
    },
    {
      "cell_type": "code",
      "metadata": {
        "colab": {
          "base_uri": "https://localhost:8080/"
        },
        "id": "_qiim6FRSUff",
        "outputId": "c6f386ad-ffe7-4e38-eb8a-6ce42ee61de2"
      },
      "source": [
        "a = \"Jeroh Lee M. Mojica\"\n",
        "b = \"18\"\n",
        "c = \"109 Purok 3 Banaba Cerca Indang, Cavite\"\n",
        "print (\"My name is \" + a)\n",
        "print (\"I am \" + b + \" years old\")\n",
        "print (\"I live in \" + c)"
      ],
      "execution_count": null,
      "outputs": [
        {
          "output_type": "stream",
          "name": "stdout",
          "text": [
            "My name is Jeroh Lee M. Mojica\n",
            "I am 18 years old\n",
            "I live in 109 Purok 3 Banaba Cerca Indang, Cavite\n"
          ]
        }
      ]
    }
  ]
}