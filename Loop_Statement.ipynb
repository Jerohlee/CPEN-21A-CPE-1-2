{
  "nbformat": 4,
  "nbformat_minor": 0,
  "metadata": {
    "colab": {
      "name": "Loop Statement",
      "provenance": [],
      "authorship_tag": "ABX9TyPEvVdk3A96HMUjnWuRtDBO",
      "include_colab_link": true
    },
    "kernelspec": {
      "name": "python3",
      "display_name": "Python 3"
    },
    "language_info": {
      "name": "python"
    }
  },
  "cells": [
    {
      "cell_type": "markdown",
      "metadata": {
        "id": "view-in-github",
        "colab_type": "text"
      },
      "source": [
        "<a href=\"https://colab.research.google.com/github/Jerohlee/CPEN-21A-CPE-1-2/blob/main/Loop_Statement.ipynb\" target=\"_parent\"><img src=\"https://colab.research.google.com/assets/colab-badge.svg\" alt=\"Open In Colab\"/></a>"
      ]
    },
    {
      "cell_type": "markdown",
      "source": [
        "#For Loop"
      ],
      "metadata": {
        "id": "gB6_1ec5W-pV"
      }
    },
    {
      "cell_type": "code",
      "execution_count": 10,
      "metadata": {
        "colab": {
          "base_uri": "https://localhost:8080/"
        },
        "id": "QmtNpE0BW92e",
        "outputId": "5ea800e8-c73c-4c94-a86c-580646689aa2"
      },
      "outputs": [
        {
          "output_type": "stream",
          "name": "stdout",
          "text": [
            "a\n",
            "b\n",
            "c\n",
            "d\n",
            "e\n",
            "f\n",
            "g\n"
          ]
        }
      ],
      "source": [
        "letters = [\"a\", \"b\", \"c\", \"d\", \"e\", \"f\", \"g\"]\n",
        "\n",
        "for x in letters:\n",
        "  print(x)"
      ]
    },
    {
      "cell_type": "markdown",
      "source": [
        "#The Break Statement"
      ],
      "metadata": {
        "id": "gDCn7yDaXZ7r"
      }
    },
    {
      "cell_type": "code",
      "source": [
        "letters = [\"a\", \"b\", \"c\", \"d\", \"e\", \"f\", \"g\"]\n",
        "for y in letters:\n",
        "  print (y)\n",
        "  if y == \"c\":\n",
        "    break"
      ],
      "metadata": {
        "colab": {
          "base_uri": "https://localhost:8080/"
        },
        "id": "OQHAgHJcYjME",
        "outputId": "5922eec6-657a-4855-ef96-647489d95d83"
      },
      "execution_count": 21,
      "outputs": [
        {
          "output_type": "stream",
          "name": "stdout",
          "text": [
            "a\n",
            "b\n",
            "c\n"
          ]
        }
      ]
    },
    {
      "cell_type": "markdown",
      "source": [
        "#Range Function"
      ],
      "metadata": {
        "id": "ZACZ6YBnY07U"
      }
    },
    {
      "cell_type": "code",
      "source": [
        "for x in range (15):\n",
        "  print(x)"
      ],
      "metadata": {
        "colab": {
          "base_uri": "https://localhost:8080/"
        },
        "id": "HzVYfXeRY32r",
        "outputId": "4e3e2c40-3172-46cc-9cba-f58ad10715dc"
      },
      "execution_count": 31,
      "outputs": [
        {
          "output_type": "stream",
          "name": "stdout",
          "text": [
            "0\n",
            "1\n",
            "2\n",
            "3\n",
            "4\n",
            "5\n",
            "6\n",
            "7\n",
            "8\n",
            "9\n",
            "10\n",
            "11\n",
            "12\n",
            "13\n",
            "14\n"
          ]
        }
      ]
    },
    {
      "cell_type": "markdown",
      "source": [
        "#Looping through String"
      ],
      "metadata": {
        "id": "UJzpVpUYaAhk"
      }
    },
    {
      "cell_type": "code",
      "source": [
        "for x in \"Jeroh Lee\":\n",
        "  print(x)"
      ],
      "metadata": {
        "colab": {
          "base_uri": "https://localhost:8080/"
        },
        "id": "K2vSK7rcaDZ8",
        "outputId": "5509af03-3037-468f-a880-757505d41356"
      },
      "execution_count": 32,
      "outputs": [
        {
          "output_type": "stream",
          "name": "stdout",
          "text": [
            "J\n",
            "e\n",
            "r\n",
            "o\n",
            "h\n",
            " \n",
            "L\n",
            "e\n",
            "e\n"
          ]
        }
      ]
    },
    {
      "cell_type": "markdown",
      "source": [
        "#Nested Loop"
      ],
      "metadata": {
        "id": "K-yDOF8WaLGM"
      }
    },
    {
      "cell_type": "code",
      "source": [
        "letter=[\"a\", \"b\", \"c\", \"d\"]\n",
        "number=[1, 2, 3, 4]\n",
        "\n",
        "for x in letter:\n",
        "  for y in number:\n",
        "    print(x,y)\n",
        "    if y == 1:\n",
        "      if x == \"d\":\n",
        "        break"
      ],
      "metadata": {
        "colab": {
          "base_uri": "https://localhost:8080/"
        },
        "id": "YRxhu3b_aNij",
        "outputId": "dc3371a7-69f8-4a05-b87c-89b2e1f74284"
      },
      "execution_count": 37,
      "outputs": [
        {
          "output_type": "stream",
          "name": "stdout",
          "text": [
            "a 1\n",
            "a 2\n",
            "a 3\n",
            "a 4\n",
            "b 1\n",
            "b 2\n",
            "b 3\n",
            "b 4\n",
            "c 1\n",
            "c 2\n",
            "c 3\n",
            "c 4\n",
            "d 1\n"
          ]
        }
      ]
    },
    {
      "cell_type": "markdown",
      "source": [
        "#While Loop"
      ],
      "metadata": {
        "id": "DcSqIIZfaltl"
      }
    },
    {
      "cell_type": "code",
      "source": [
        "x = 20\n",
        "\n",
        "while x>0:\n",
        "  print(x)\n",
        "  x -= 2 "
      ],
      "metadata": {
        "colab": {
          "base_uri": "https://localhost:8080/"
        },
        "id": "qJTzAPC9ankz",
        "outputId": "b76650f9-e78d-4549-d9cc-7d7a6d18b34a"
      },
      "execution_count": 40,
      "outputs": [
        {
          "output_type": "stream",
          "name": "stdout",
          "text": [
            "20\n",
            "18\n",
            "16\n",
            "14\n",
            "12\n",
            "10\n",
            "8\n",
            "6\n",
            "4\n",
            "2\n"
          ]
        }
      ]
    },
    {
      "cell_type": "markdown",
      "source": [
        "#The Break Statement"
      ],
      "metadata": {
        "id": "jh8yGhw0bTAV"
      }
    },
    {
      "cell_type": "code",
      "source": [
        "x = 12\n",
        "\n",
        "while x > 3:\n",
        "  print(x)\n",
        "  if x == 6:\n",
        "    break\n",
        "  x -= 2\n"
      ],
      "metadata": {
        "colab": {
          "base_uri": "https://localhost:8080/"
        },
        "id": "-mzDiJDobWAt",
        "outputId": "93b7c2d1-3862-4904-d00f-16667c49e979"
      },
      "execution_count": 45,
      "outputs": [
        {
          "output_type": "stream",
          "name": "stdout",
          "text": [
            "12\n",
            "10\n",
            "8\n",
            "6\n"
          ]
        }
      ]
    },
    {
      "cell_type": "markdown",
      "source": [
        "#The Continue Statement"
      ],
      "metadata": {
        "id": "Gx2yK6q4az8z"
      }
    },
    {
      "cell_type": "code",
      "source": [
        "x = 15\n",
        "\n",
        "while x > 5:\n",
        "  x -= 3\n",
        "  if x == 9:\n",
        "    continue\n",
        "  print(x)"
      ],
      "metadata": {
        "colab": {
          "base_uri": "https://localhost:8080/"
        },
        "id": "mEcflJ5Qa-WV",
        "outputId": "cc497d3e-f433-4bb9-9f4c-48ad933cce08"
      },
      "execution_count": 44,
      "outputs": [
        {
          "output_type": "stream",
          "name": "stdout",
          "text": [
            "12\n",
            "6\n",
            "3\n"
          ]
        }
      ]
    },
    {
      "cell_type": "markdown",
      "source": [
        "#The else statement\n"
      ],
      "metadata": {
        "id": "zvNnFcRIbMUk"
      }
    },
    {
      "cell_type": "code",
      "source": [
        "x = 18\n",
        "\n",
        "while x > 9:\n",
        "  x = x-3\n",
        "  print(x)\n",
        "else:\n",
        "  print(\"The value is no longer greater than 9\")"
      ],
      "metadata": {
        "colab": {
          "base_uri": "https://localhost:8080/"
        },
        "id": "2nl-Dyr6biiL",
        "outputId": "70ceb3d2-ec04-4de5-9531-1b1f50958aa3"
      },
      "execution_count": 46,
      "outputs": [
        {
          "output_type": "stream",
          "name": "stdout",
          "text": [
            "15\n",
            "12\n",
            "9\n",
            "The value is no longer greater than 9\n"
          ]
        }
      ]
    },
    {
      "cell_type": "markdown",
      "source": [
        "#Application 1"
      ],
      "metadata": {
        "id": "6FBvUHQdb1kU"
      }
    },
    {
      "cell_type": "code",
      "source": [
        "x = [\"Value\"]\n",
        "y = 0\n",
        "for x in x:\n",
        "  while y <= 10:\n",
        "    print(x, y)\n",
        "    y = y + 1"
      ],
      "metadata": {
        "colab": {
          "base_uri": "https://localhost:8080/"
        },
        "id": "kQ6dgbcSb4Bs",
        "outputId": "9c5dee23-83e7-427b-d024-4780e1651240"
      },
      "execution_count": 47,
      "outputs": [
        {
          "output_type": "stream",
          "name": "stdout",
          "text": [
            "Value 0\n",
            "Value 1\n",
            "Value 2\n",
            "Value 3\n",
            "Value 4\n",
            "Value 5\n",
            "Value 6\n",
            "Value 7\n",
            "Value 8\n",
            "Value 9\n",
            "Value 10\n"
          ]
        }
      ]
    },
    {
      "cell_type": "markdown",
      "source": [
        "#Application 2"
      ],
      "metadata": {
        "id": "jQp8cpD_b-W7"
      }
    },
    {
      "cell_type": "code",
      "source": [
        "x = 15\n",
        "while x > 5:\n",
        "  x -= 3\n",
        "  if x == 3:\n",
        "    break\n",
        "  print(x)\n",
        "else:\n",
        "  print(\"The value is no longer greater than 5\")"
      ],
      "metadata": {
        "colab": {
          "base_uri": "https://localhost:8080/"
        },
        "id": "W1K3R0Vrb_dr",
        "outputId": "0be1ba39-192c-435f-a143-e68be41f5de1"
      },
      "execution_count": 48,
      "outputs": [
        {
          "output_type": "stream",
          "name": "stdout",
          "text": [
            "12\n",
            "9\n",
            "6\n"
          ]
        }
      ]
    }
  ]
}