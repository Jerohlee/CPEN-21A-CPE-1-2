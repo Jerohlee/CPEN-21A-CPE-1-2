{
  "nbformat": 4,
  "nbformat_minor": 0,
  "metadata": {
    "colab": {
      "name": "Midterm Exam.ipynb",
      "provenance": [],
      "authorship_tag": "ABX9TyPZEpS8ugV3E8Y3UXEd8N1h",
      "include_colab_link": true
    },
    "kernelspec": {
      "name": "python3",
      "display_name": "Python 3"
    },
    "language_info": {
      "name": "python"
    }
  },
  "cells": [
    {
      "cell_type": "markdown",
      "metadata": {
        "id": "view-in-github",
        "colab_type": "text"
      },
      "source": [
        "<a href=\"https://colab.research.google.com/github/Jerohlee/CPEN-21A-CPE-1-2/blob/main/Midterm_Exam.ipynb\" target=\"_parent\"><img src=\"https://colab.research.google.com/assets/colab-badge.svg\" alt=\"Open In Colab\"/></a>"
      ]
    },
    {
      "cell_type": "code",
      "metadata": {
        "id": "aHCxgz-eBohv"
      },
      "source": [
        "##Midterm Exam"
      ],
      "execution_count": 1,
      "outputs": []
    },
    {
      "cell_type": "code",
      "metadata": {
        "colab": {
          "base_uri": "https://localhost:8080/"
        },
        "id": "nELJv72MB1Yq",
        "outputId": "cef6b5f1-999e-4492-a346-b9316ae94331"
      },
      "source": [
        "#Problem Statement 1\n",
        "a = \"Jeroh Lee Malabanan Mojica\"\n",
        "b = \"202101648\"\n",
        "c = \"18\"\n",
        "d = \"22 July 2003\"\n",
        "e = \"109 Purok 3 Banaba Cerca Indang Cavite\"\n",
        "f = \"Bachelor of Science in Computer Engineering\"\n",
        "g = \"92\"\n",
        "print (\"Full name: \" + a)\n",
        "print (\"Student number: \" + b)\n",
        "print (\"Age: \" + c)\n",
        "print (\"Birthday: \" + d)\n",
        "print (\"Address: \" + e)\n",
        "print (\"Course: \" + f)\n",
        "print (\"Last GWA: \" + g)"
      ],
      "execution_count": 75,
      "outputs": [
        {
          "output_type": "stream",
          "name": "stdout",
          "text": [
            "Full name: Jeroh Lee Malabanan Mojica\n",
            "Student number: 202101648\n",
            "Age: 18\n",
            "Birthday: 22 July 2003\n",
            "Address: 109 Purok 3 Banaba Cerca Indang Cavite\n",
            "Course: Bachelor of Science in Computer Engineering\n",
            "Last GWA: 92\n"
          ]
        }
      ]
    },
    {
      "cell_type": "code",
      "metadata": {
        "colab": {
          "base_uri": "https://localhost:8080/"
        },
        "id": "btWA3JtHDN8f",
        "outputId": "d666ecdc-d3a9-4b58-f247-8db04d3d2aea"
      },
      "source": [
        "#Problem Statement 2\n",
        "n = 4\n",
        "answ = \"Y\"\n",
        "\n",
        "print (2<n) and (n<6)\n",
        "print ((2<n) or (n==6))\n",
        "print (not(2<n) or (n==6))\n",
        "print (not(n<6))\n",
        "print ((answ==\"Y\") or (answ==\"y\"))\n",
        "print ((answ==\"Y\") and (answ==\"y\"))\n",
        "print ((not(answ==\"y\")))\n",
        "print (((2<n)and(n==5+1)) or (answ==\"No\"))\n",
        "print (((n==2)and(n==7)) or (answ==\"Y\"))\n",
        "print ((n==2) and ((n==7) or(answ==\"Y\")))"
      ],
      "execution_count": 76,
      "outputs": [
        {
          "output_type": "stream",
          "name": "stdout",
          "text": [
            "True\n",
            "True\n",
            "False\n",
            "False\n",
            "True\n",
            "False\n",
            "True\n",
            "False\n",
            "True\n",
            "False\n"
          ]
        }
      ]
    },
    {
      "cell_type": "code",
      "metadata": {
        "colab": {
          "base_uri": "https://localhost:8080/"
        },
        "id": "ZuYf_1PvHS20",
        "outputId": "e6a816fa-08c0-477b-adb5-118bebdebaeb"
      },
      "source": [
        "#Problem Statement 3\n",
        "x = 2 \n",
        "y = -3\n",
        "w = 7\n",
        "z = -10 \n",
        "\n",
        "print (x/y)\n",
        "print (w/y/x)\n",
        "print (z/y%x)\n",
        "print (x%-y*w)\n",
        "print (x%y)\n",
        "print (z%w-y/x*5+5)\n",
        "print (9-x%(2+y))\n",
        "print (z//w)\n",
        "print ((2+y)**2)\n",
        "print (w/x*2)"
      ],
      "execution_count": 77,
      "outputs": [
        {
          "output_type": "stream",
          "name": "stdout",
          "text": [
            "-0.6666666666666666\n",
            "-1.1666666666666667\n",
            "1.3333333333333335\n",
            "14\n",
            "-1\n",
            "16.5\n",
            "9\n",
            "-2\n",
            "1\n",
            "7.0\n"
          ]
        }
      ]
    }
  ]
}