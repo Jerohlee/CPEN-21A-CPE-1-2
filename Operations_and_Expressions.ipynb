{
  "nbformat": 4,
  "nbformat_minor": 0,
  "metadata": {
    "colab": {
      "name": "Operations and Expressions.ipynb",
      "provenance": [],
      "authorship_tag": "ABX9TyN/KaTkrM/me3J8F/YeGEaj",
      "include_colab_link": true
    },
    "kernelspec": {
      "name": "python3",
      "display_name": "Python 3"
    },
    "language_info": {
      "name": "python"
    }
  },
  "cells": [
    {
      "cell_type": "markdown",
      "metadata": {
        "id": "view-in-github",
        "colab_type": "text"
      },
      "source": [
        "<a href=\"https://colab.research.google.com/github/Jerohlee/CPEN-21A-CPE-1-2/blob/main/Operations_and_Expressions.ipynb\" target=\"_parent\"><img src=\"https://colab.research.google.com/assets/colab-badge.svg\" alt=\"Open In Colab\"/></a>"
      ]
    },
    {
      "cell_type": "markdown",
      "metadata": {
        "id": "mpln62NiSYIy"
      },
      "source": [
        "BOOLEAN OPERATOR"
      ]
    },
    {
      "cell_type": "code",
      "metadata": {
        "colab": {
          "base_uri": "https://localhost:8080/"
        },
        "id": "FKy3-LdHSWkT",
        "outputId": "0ec9744e-8408-40db-89f6-7372d1cc4395"
      },
      "source": [
        "print(12>9)\n",
        "print(12==9)\n",
        "print(12<9)"
      ],
      "execution_count": 4,
      "outputs": [
        {
          "output_type": "stream",
          "name": "stdout",
          "text": [
            "True\n",
            "False\n",
            "False\n"
          ]
        }
      ]
    },
    {
      "cell_type": "code",
      "metadata": {
        "colab": {
          "base_uri": "https://localhost:8080/"
        },
        "id": "2-vZDq47SfWS",
        "outputId": "06c50153-520d-41f5-c188-dc5d0ab26b56"
      },
      "source": [
        "a = 12\n",
        "b = 9\n",
        "\n",
        "print(a>b)\n",
        "print(a==a)"
      ],
      "execution_count": 2,
      "outputs": [
        {
          "output_type": "stream",
          "name": "stdout",
          "text": [
            "True\n",
            "True\n"
          ]
        }
      ]
    },
    {
      "cell_type": "code",
      "metadata": {
        "colab": {
          "base_uri": "https://localhost:8080/"
        },
        "id": "lD2ZqAKkSgLt",
        "outputId": "72a488e7-ae65-4676-f861-bb86dfe76562"
      },
      "source": [
        "a= 5\n",
        "b= 4\n",
        "\n",
        "print(a==b)\n",
        "print(a!=a)"
      ],
      "execution_count": 3,
      "outputs": [
        {
          "output_type": "stream",
          "name": "stdout",
          "text": [
            "False\n",
            "False\n"
          ]
        }
      ]
    },
    {
      "cell_type": "code",
      "metadata": {
        "colab": {
          "base_uri": "https://localhost:8080/"
        },
        "id": "KAWV_f81SipK",
        "outputId": "823ee60e-84f0-4f80-eb31-8dc4d7f6dd1e"
      },
      "source": [
        "print(12+6)\n",
        "print(12-6)\n",
        "print(12*6)\n",
        "print(12/6) #division - quotient\n",
        "print(12%6)"
      ],
      "execution_count": 5,
      "outputs": [
        {
          "output_type": "stream",
          "name": "stdout",
          "text": [
            "18\n",
            "6\n",
            "72\n",
            "2.0\n",
            "0\n"
          ]
        }
      ]
    },
    {
      "cell_type": "code",
      "metadata": {
        "colab": {
          "base_uri": "https://localhost:8080/"
        },
        "id": "iRTuQKiwSj3B",
        "outputId": "4c25bda7-6bdf-48fb-d2af-a397b7bad6ec"
      },
      "source": [
        "a= 60 #0011 1100\n",
        "b= 13 #0000 1101\n",
        "\n",
        "print(a &b)\n",
        "print(a|b)\n",
        "print(a^b)\n",
        "print(~a)\n",
        "print(a << 2)\n",
        "print(a >> 2)"
      ],
      "execution_count": 7,
      "outputs": [
        {
          "output_type": "stream",
          "name": "stdout",
          "text": [
            "12\n",
            "61\n",
            "49\n",
            "-61\n",
            "240\n",
            "15\n"
          ]
        }
      ]
    },
    {
      "cell_type": "code",
      "metadata": {
        "colab": {
          "base_uri": "https://localhost:8080/"
        },
        "id": "RLp4IGJiSk6T",
        "outputId": "ce00ad9f-ead8-4443-b205-d679a1163271"
      },
      "source": [
        "x = 6\n",
        "x+= 3 #x= x+3\n",
        "print(x)\n",
        "\n",
        "x%=3\n",
        "print(x)"
      ],
      "execution_count": 8,
      "outputs": [
        {
          "output_type": "stream",
          "name": "stdout",
          "text": [
            "9\n",
            "0\n"
          ]
        }
      ]
    },
    {
      "cell_type": "code",
      "metadata": {
        "colab": {
          "base_uri": "https://localhost:8080/"
        },
        "id": "i2-UIMwFSl0i",
        "outputId": "d2bc11aa-d3de-4b70-8274-d8f25672d9b3"
      },
      "source": [
        "a= True\n",
        "b= False\n",
        "print(a and b)\n",
        "print(a or b)\n",
        "print(not(a and b))"
      ],
      "execution_count": 9,
      "outputs": [
        {
          "output_type": "stream",
          "name": "stdout",
          "text": [
            "False\n",
            "True\n",
            "True\n"
          ]
        }
      ]
    },
    {
      "cell_type": "code",
      "metadata": {
        "colab": {
          "base_uri": "https://localhost:8080/"
        },
        "id": "OHTGorc7SnOC",
        "outputId": "fb3bcbb3-a51f-4c37-8f0b-2e8f9c1b0022"
      },
      "source": [
        "def myFunction() :return True\n",
        "print(myFunction())"
      ],
      "execution_count": 10,
      "outputs": [
        {
          "output_type": "stream",
          "name": "stdout",
          "text": [
            "True\n"
          ]
        }
      ]
    },
    {
      "cell_type": "code",
      "metadata": {
        "colab": {
          "base_uri": "https://localhost:8080/"
        },
        "id": "wnMgp71BSoJi",
        "outputId": "ad36d144-855b-40f4-8b8e-7634ec741f9f"
      },
      "source": [
        "def myFunction() :return True\n",
        "print(myFunction())\n",
        "\n",
        "if myFunction() :\n",
        "  print(\"Yes\")\n",
        "else :\n",
        "  print(\"No\")"
      ],
      "execution_count": 11,
      "outputs": [
        {
          "output_type": "stream",
          "name": "stdout",
          "text": [
            "True\n",
            "Yes\n"
          ]
        }
      ]
    },
    {
      "cell_type": "code",
      "metadata": {
        "colab": {
          "base_uri": "https://localhost:8080/"
        },
        "id": "OuTXa7yySo7c",
        "outputId": "d2ffd073-4b1e-4ff5-c0b0-73980de0787f"
      },
      "source": [
        "a is b\n",
        "a is not b "
      ],
      "execution_count": 12,
      "outputs": [
        {
          "output_type": "execute_result",
          "data": {
            "text/plain": [
              "True"
            ]
          },
          "metadata": {},
          "execution_count": 12
        }
      ]
    }
  ]
}