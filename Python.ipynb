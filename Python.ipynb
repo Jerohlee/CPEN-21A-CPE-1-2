{
  "nbformat": 4,
  "nbformat_minor": 0,
  "metadata": {
    "colab": {
      "name": "Welcome To Colaboratory",
      "provenance": [],
      "collapsed_sections": [],
      "toc_visible": true,
      "include_colab_link": true
    },
    "kernelspec": {
      "display_name": "Python 3",
      "name": "python3"
    }
  },
  "cells": [
    {
      "cell_type": "markdown",
      "metadata": {
        "id": "view-in-github",
        "colab_type": "text"
      },
      "source": [
        "<a href=\"https://colab.research.google.com/github/Jerohlee/CPEN-21A-CPE-1-2/blob/main/Python.ipynb\" target=\"_parent\"><img src=\"https://colab.research.google.com/assets/colab-badge.svg\" alt=\"Open In Colab\"/></a>"
      ]
    },
    {
      "cell_type": "code",
      "metadata": {
        "colab": {
          "base_uri": "https://localhost:8080/"
        },
        "id": "6Hp9FNAPGXpd",
        "outputId": "c264a094-daae-4c37-a7d4-7092f335e0b3"
      },
      "source": [
        "#This is Python comment\n",
        "print(\"Hello~!\")"
      ],
      "execution_count": 16,
      "outputs": [
        {
          "output_type": "stream",
          "name": "stdout",
          "text": [
            "Hello~!\n"
          ]
        }
      ]
    },
    {
      "cell_type": "code",
      "metadata": {
        "colab": {
          "base_uri": "https://localhost:8080/"
        },
        "id": "SMVsDAq1EOnl",
        "outputId": "634a9e3e-797f-406d-8908-f94c304eba1b"
      },
      "source": [
        "a = \"lee\"\n",
        "print (a)"
      ],
      "execution_count": 2,
      "outputs": [
        {
          "output_type": "stream",
          "name": "stdout",
          "text": [
            "lee\n"
          ]
        }
      ]
    },
    {
      "cell_type": "code",
      "metadata": {
        "colab": {
          "base_uri": "https://localhost:8080/"
        },
        "id": "9xgJAlRUIFWn",
        "outputId": "9e05523e-1a0d-4e69-a1fd-f3b7632110c4"
      },
      "source": [
        "a= int(4)\n",
        "b= float(4)\n",
        "print(a)\n",
        "print(b)"
      ],
      "execution_count": 31,
      "outputs": [
        {
          "output_type": "stream",
          "name": "stdout",
          "text": [
            "4\n",
            "4.0\n"
          ]
        }
      ]
    },
    {
      "cell_type": "code",
      "metadata": {
        "colab": {
          "base_uri": "https://localhost:8080/"
        },
        "id": "ruLERXLDEW2P",
        "outputId": "9bacc7cf-6e82-467d-d0f1-73580f55241a"
      },
      "source": [
        "a = \"lee\"\n",
        "A = \"Lee\"\n",
        "print (a)\n",
        "print (A)"
      ],
      "execution_count": 3,
      "outputs": [
        {
          "output_type": "stream",
          "name": "stdout",
          "text": [
            "lee\n",
            "Lee\n"
          ]
        }
      ]
    },
    {
      "cell_type": "code",
      "metadata": {
        "colab": {
          "base_uri": "https://localhost:8080/"
        },
        "id": "l0Sq09UREvlG",
        "outputId": "5165f84c-e059-4a70-f760-e8a1df914b25"
      },
      "source": [
        "a = 1\n",
        "b = \"lee\"\n",
        "print (type(a))\n",
        "print (type(b))"
      ],
      "execution_count": 5,
      "outputs": [
        {
          "output_type": "stream",
          "name": "stdout",
          "text": [
            "<class 'int'>\n",
            "<class 'str'>\n"
          ]
        }
      ]
    },
    {
      "cell_type": "code",
      "metadata": {
        "colab": {
          "base_uri": "https://localhost:8080/"
        },
        "id": "-DA8DWDBFHym",
        "outputId": "038c8a37-b8c0-4763-ceb9-709e944cba4f"
      },
      "source": [
        "a = b = c = \"letters\"\n",
        "print(a)\n",
        "print(b)\n",
        "print(c)"
      ],
      "execution_count": 6,
      "outputs": [
        {
          "output_type": "stream",
          "name": "stdout",
          "text": [
            "letters\n",
            "letters\n",
            "letters\n"
          ]
        }
      ]
    },
    {
      "cell_type": "code",
      "metadata": {
        "colab": {
          "base_uri": "https://localhost:8080/"
        },
        "id": "P1Uzp7rQFZT-",
        "outputId": "544c9e46-cb87-46ad-d4c7-62048b502f1c"
      },
      "source": [
        "a, b, c = 1, 2, 3\n",
        "print(a)\n",
        "print(b)\n",
        "print(c)\n"
      ],
      "execution_count": 9,
      "outputs": [
        {
          "output_type": "stream",
          "name": "stdout",
          "text": [
            "1\n",
            "2\n",
            "3\n"
          ]
        }
      ]
    },
    {
      "cell_type": "code",
      "metadata": {
        "colab": {
          "base_uri": "https://localhost:8080/"
        },
        "id": "uLM5YjI0Hg0-",
        "outputId": "a1233f55-350c-4337-9b35-271452a31293"
      },
      "source": [
        "a= \"Lee\"\n",
        "print (\"I am \" + a)"
      ],
      "execution_count": 30,
      "outputs": [
        {
          "output_type": "stream",
          "name": "stdout",
          "text": [
            "I am Lee\n"
          ]
        }
      ]
    },
    {
      "cell_type": "code",
      "metadata": {
        "colab": {
          "base_uri": "https://localhost:8080/"
        },
        "id": "vDLFlyxCGIEm",
        "outputId": "dafbfb5a-7d23-4006-fa56-a9ece34a4c7b"
      },
      "source": [
        "a = 1\n",
        "b = 2\n",
        "print (a+b)\n",
        "print (a-b)\n",
        "print (a*b)\n",
        "print (a/b)"
      ],
      "execution_count": 20,
      "outputs": [
        {
          "output_type": "stream",
          "name": "stdout",
          "text": [
            "3\n",
            "-1\n",
            "2\n",
            "0.5\n"
          ]
        }
      ]
    },
    {
      "cell_type": "code",
      "metadata": {
        "colab": {
          "base_uri": "https://localhost:8080/"
        },
        "id": "XTSaF_7YHLAn",
        "outputId": "621cd4a6-3e4e-4778-c9ce-1beb6ad9c555"
      },
      "source": [
        "a<b and a==b"
      ],
      "execution_count": 22,
      "outputs": [
        {
          "output_type": "execute_result",
          "data": {
            "text/plain": [
              "False"
            ]
          },
          "metadata": {},
          "execution_count": 22
        }
      ]
    },
    {
      "cell_type": "code",
      "metadata": {
        "colab": {
          "base_uri": "https://localhost:8080/"
        },
        "id": "-xQOxAUCHTIl",
        "outputId": "c27b6948-3773-4eac-98f3-8fa216fa551e"
      },
      "source": [
        "a>b or a==b"
      ],
      "execution_count": 25,
      "outputs": [
        {
          "output_type": "execute_result",
          "data": {
            "text/plain": [
              "False"
            ]
          },
          "metadata": {},
          "execution_count": 25
        }
      ]
    },
    {
      "cell_type": "code",
      "metadata": {
        "colab": {
          "base_uri": "https://localhost:8080/"
        },
        "id": "R2aNSRH5Hace",
        "outputId": "c263dce4-efa4-4ac9-cbcf-ac96d67cad4c"
      },
      "source": [
        "not(a<b and a==b)"
      ],
      "execution_count": 26,
      "outputs": [
        {
          "output_type": "execute_result",
          "data": {
            "text/plain": [
              "True"
            ]
          },
          "metadata": {},
          "execution_count": 26
        }
      ]
    }
  ]
}